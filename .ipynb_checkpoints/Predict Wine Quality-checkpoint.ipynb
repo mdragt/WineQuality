{
 "cells": [
  {
   "cell_type": "code",
   "execution_count": null,
   "metadata": {},
   "outputs": [],
   "source": [
    "import pandas as pd\n",
    "import numpy as np\n",
    "import matplotlib.pyplot as plt\n",
    "import seaborn as sns"
   ]
  },
  {
   "cell_type": "code",
   "execution_count": null,
   "metadata": {},
   "outputs": [],
   "source": [
    "# File path to the csv files\n",
    "csv_file_white = \"https://archive.ics.uci.edu/ml/machine-learning-databases/wine-quality/winequality-white.csv\"\n",
    "csv_file_red =\"https://archive.ics.uci.edu/ml/machine-learning-databases/wine-quality/winequality-red.csv\""
   ]
  },
  {
   "cell_type": "code",
   "execution_count": null,
   "metadata": {},
   "outputs": [],
   "source": [
    "# Read white csv file into dataframe\n",
    "df = pd.read_csv(csv_file_white, sep=\";\")\n",
    "# set white as color\n",
    "df[\"color\"] = \"white\"\n",
    "\n",
    "# Print first 5 rows in the dataframe\n",
    "df.head()"
   ]
  },
  {
   "cell_type": "code",
   "execution_count": null,
   "metadata": {},
   "outputs": [],
   "source": [
    "# Read red wine csv file into dataframe\n",
    "dfred = pd.read_csv(csv_file_red, sep=\";\")\n",
    "# set red as color\n",
    "dfred[\"color\"] = \"red\"\n",
    "\n",
    "# Print first 5 rows in the dataframe\n",
    "dfred.head()"
   ]
  },
  {
   "cell_type": "code",
   "execution_count": null,
   "metadata": {},
   "outputs": [],
   "source": [
    "# merge the red and the white wine dataframes together\n",
    "df = df.append(dfred, ignore_index = True)"
   ]
  },
  {
   "cell_type": "code",
   "execution_count": null,
   "metadata": {},
   "outputs": [],
   "source": [
    "# get descriptive statistics from the data\n",
    "df.describe()"
   ]
  },
  {
   "cell_type": "code",
   "execution_count": null,
   "metadata": {},
   "outputs": [],
   "source": [
    "# set \"color\" as a categorical variable so we can use this for making dummies later on\n",
    "df['color'] = pd.Categorical(df['color'])\n",
    "# check the dataset\n",
    "df.info()"
   ]
  },
  {
   "cell_type": "code",
   "execution_count": null,
   "metadata": {},
   "outputs": [],
   "source": [
    "# check the correlation between the variables\n",
    "# compute the correlation matrix\n",
    "cor = df.corr()\n",
    "fig = plt.figure(figsize = (12,10))\n",
    "sns.heatmap(cor, annot=True, cmap=plt.cm.Blues)\n",
    "plt.show()"
   ]
  },
  {
   "cell_type": "code",
   "execution_count": null,
   "metadata": {},
   "outputs": [],
   "source": [
    "# make a dummy variable for \"color\" so we can use it in a regression\n",
    "dfDummies = pd.get_dummies(df['color'], prefix = 'color')\n",
    "df = pd.concat([df, dfDummies], axis=1)"
   ]
  },
  {
   "cell_type": "code",
   "execution_count": null,
   "metadata": {},
   "outputs": [],
   "source": [
    "df.describe()"
   ]
  },
  {
   "cell_type": "code",
   "execution_count": null,
   "metadata": {},
   "outputs": [],
   "source": [
    "# get some idea of the data\n",
    "fig = plt.figure(figsize = (10,6))\n",
    "sns.catplot(x=\"quality\", y=\"fixed acidity\", hue=\"color_white\", kind=\"swarm\", data=df)"
   ]
  },
  {
   "cell_type": "code",
   "execution_count": null,
   "metadata": {},
   "outputs": [],
   "source": [
    "# inspect the relationship between quality and volatile acidity\n",
    "sns.catplot(x = 'quality', y = 'volatile acidity', hue=\"color_white\", kind=\"swarm\", data = df)"
   ]
  },
  {
   "cell_type": "code",
   "execution_count": null,
   "metadata": {},
   "outputs": [],
   "source": [
    "# inspect the relationship between quality and citric acid\n",
    "sns.catplot(x=\"quality\", y=\"citric acid\", hue=\"color_white\", kind=\"swarm\", data=df)"
   ]
  },
  {
   "cell_type": "code",
   "execution_count": null,
   "metadata": {},
   "outputs": [],
   "source": [
    "# inspect the relationship between quality and residual sugar\n",
    "sns.catplot(x = 'quality', y = 'residual sugar', hue=\"color_white\", kind=\"swarm\", data = df)"
   ]
  },
  {
   "cell_type": "code",
   "execution_count": null,
   "metadata": {},
   "outputs": [],
   "source": [
    "# inspect the relationship between quality and chlorides\n",
    "sns.catplot(x = 'quality', y = 'chlorides', hue=\"color_white\", kind=\"swarm\", data = df)"
   ]
  },
  {
   "cell_type": "code",
   "execution_count": null,
   "metadata": {},
   "outputs": [],
   "source": [
    "# inspect the relationship between quality and free sulfur dioxide\n",
    "sns.catplot(x = 'quality', y = 'free sulfur dioxide', hue=\"color_white\", kind=\"swarm\", data = df)"
   ]
  },
  {
   "cell_type": "code",
   "execution_count": null,
   "metadata": {},
   "outputs": [],
   "source": [
    "# inspect the relationship between quality and total sulfur dioxide\n",
    "sns.catplot(x = 'quality', y = 'total sulfur dioxide', hue=\"color_white\", kind=\"swarm\", data = df)"
   ]
  },
  {
   "cell_type": "code",
   "execution_count": null,
   "metadata": {},
   "outputs": [],
   "source": [
    "# inspect the relationship between quality and density\n",
    "sns.catplot(x = 'quality', y = 'density', hue=\"color_white\", kind=\"swarm\", data = df)"
   ]
  },
  {
   "cell_type": "code",
   "execution_count": null,
   "metadata": {},
   "outputs": [],
   "source": [
    "# inspect the relationship between quality and pH\n",
    "sns.catplot(x = 'quality', y = 'pH', hue=\"color_white\", kind=\"swarm\", data = df)"
   ]
  },
  {
   "cell_type": "code",
   "execution_count": null,
   "metadata": {},
   "outputs": [],
   "source": [
    "# inspect the relationship between quality and sulphates\n",
    "sns.catplot(x = 'quality', y = 'sulphates', hue=\"color_white\", kind=\"swarm\", data = df)"
   ]
  },
  {
   "cell_type": "code",
   "execution_count": null,
   "metadata": {},
   "outputs": [],
   "source": [
    "# inspect the relationship between quality and alcohol\n",
    "sns.catplot(x = 'quality', y = 'alcohol', hue=\"color_white\", kind=\"swarm\", data = df)"
   ]
  },
  {
   "cell_type": "code",
   "execution_count": null,
   "metadata": {},
   "outputs": [],
   "source": [
    "df.to_csv(r'winedata.csv')"
   ]
  }
 ],
 "metadata": {
  "kernelspec": {
   "display_name": "Python 3",
   "language": "python",
   "name": "python3"
  },
  "language_info": {
   "codemirror_mode": {
    "name": "ipython",
    "version": 3
   },
   "file_extension": ".py",
   "mimetype": "text/x-python",
   "name": "python",
   "nbconvert_exporter": "python",
   "pygments_lexer": "ipython3",
   "version": "3.6.8"
  }
 },
 "nbformat": 4,
 "nbformat_minor": 2
}
